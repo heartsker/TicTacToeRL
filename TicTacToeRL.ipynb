{
  "cells": [
    {
      "cell_type": "markdown",
      "metadata": {
        "id": "view-in-github",
        "colab_type": "text"
      },
      "source": [
        "<a href=\"https://colab.research.google.com/github/heartsker/TicTacToeRL/blob/main/TicTacToeRL.ipynb\" target=\"_parent\"><img src=\"https://colab.research.google.com/assets/colab-badge.svg\" alt=\"Open In Colab\"/></a>"
      ]
    },
    {
      "cell_type": "markdown",
      "source": [
        "# Tic Tac Toe with Reinforcement learning"
      ],
      "metadata": {
        "id": "C6rCUPgstm_D"
      }
    },
    {
      "cell_type": "markdown",
      "source": [
        "## Game"
      ],
      "metadata": {
        "id": "zl4rajS4tyTB"
      }
    },
    {
      "cell_type": "markdown",
      "source": [
        "### Rules\n",
        "Tic tac toe is played on the 3-by-3 field and it involves 2 players.\n",
        "First one is playing for crosses and second - for zeroes.\n",
        "The aim is to get three in a row."
      ],
      "metadata": {
        "id": "QsRBNSNpt6TD"
      }
    },
    {
      "cell_type": "markdown",
      "source": [
        "## Reinforcement learning"
      ],
      "metadata": {
        "id": "ir5yNfRjuVqh"
      }
    },
    {
      "cell_type": "markdown",
      "source": [
        "### Definition\n",
        "Reinforcement learning is an area of Machine Learning. It is about taking suitable action to maximize reward in a particular situation. It is employed by various software and machines to find the best possible behavior or path it should take in a specific situation. Reinforcement learning differs from supervised learning in a way that in supervised learning the training data has the answer key with it so the model is trained with the correct answer itself whereas in reinforcement learning, there is no answer but the reinforcement agent decides what to do to perform the given task. In the absence of a training dataset, it is bound to learn from its experience. "
      ],
      "metadata": {
        "id": "DLhEA5Xlud4d"
      }
    },
    {
      "cell_type": "markdown",
      "source": [
        "### Main points in Reinforcement learning\n",
        "- **Input:** The input should be an initial state from which the model will start\n",
        "- **Output:** There are many possible outputs as there are a variety of solutions to a particular problem\n",
        "- **Training:** The training is based upon the input, The model will return a state and the user will decide to reward or punish the model based on its output.\n",
        "- The model keeps continues to learn.\n",
        "- The best solution is decided based on the maximum reward."
      ],
      "metadata": {
        "id": "8NpjobfGxOia"
      }
    },
    {
      "cell_type": "markdown",
      "source": [
        "### Types of Reinforcement\n",
        "There are two types of Reinforcement: \n",
        "- Positive\n",
        "\n",
        "    Positive Reinforcement is defined as when an event, occurs due to a particular behavior, increases the strength and the frequency of the behavior. In other words, it has a positive effect on behavior.\n",
        "    Advantages of **positive** reinforcement learning are: \n",
        "    - Maximizes Performance\n",
        "    - Sustain change for a long period of time\n",
        "    - Too much reinforcement can lead to an overload of states which can diminish the results\n",
        "    \n",
        "- Negative\n",
        "\n",
        "    Negative Reinforcement is defined as strengthening of behavior because a negative condition is stopped or avoided. \n",
        "    Advantages of **negative** reinforcement learning: \n",
        "\n",
        "    - Increases Behavior\n",
        "    - Provide defiance to a minimum standard of performance\n",
        "    - It Only provides enough to meet up the minimum behavior"
      ],
      "metadata": {
        "id": "aakW73ZeyPo6"
      }
    },
    {
      "cell_type": "markdown",
      "source": [
        "### Various Practical applications of Reinforcement Learning (RL)\n",
        " \n",
        "RL can be used\n",
        "- in robotics for industrial automation\n",
        "- in machine learning and data processing\n",
        "- to create training systems that provide custom instruction and materials according to the requirement of students\n",
        "- in large environments in the following situations: "
      ],
      "metadata": {
        "id": "A5IslVRzzYJX"
      }
    },
    {
      "cell_type": "markdown",
      "source": [
        "### Appropriate situations to use RL\n",
        "\n",
        "RL can be used in large environments in the following situations: \n",
        "- A model of the environment is known, but an analytic solution is not available\n",
        "- Only a simulation model of the environment is given *(the subject of simulation-based optimization)*\n",
        "- The only way to collect information about the environment is to interact with it"
      ],
      "metadata": {
        "id": "E8EazxFTzulE"
      }
    },
    {
      "cell_type": "markdown",
      "metadata": {
        "id": "1OvorQYE2rTw"
      },
      "source": [
        "# The game invironment"
      ]
    },
    {
      "cell_type": "markdown",
      "source": [
        "First, we need to define some global parameters for our game."
      ],
      "metadata": {
        "id": "oGQuC44C2FIX"
      }
    },
    {
      "cell_type": "code",
      "source": [
        "boardSize = 3"
      ],
      "metadata": {
        "id": "63_hAcLX2RV5"
      },
      "execution_count": null,
      "outputs": []
    },
    {
      "cell_type": "markdown",
      "metadata": {
        "id": "M8RIxo3E2rTy"
      },
      "source": [
        "Now, let's create our game invironment.\n",
        "\n",
        "That will be 3-by-3 board filled with zeroes."
      ]
    },
    {
      "cell_type": "code",
      "execution_count": null,
      "metadata": {
        "id": "w1Y9avXE2rTy",
        "colab": {
          "base_uri": "https://localhost:8080/"
        },
        "outputId": "f145fb9d-9152-44ee-c98e-27bf2e55a67d"
      },
      "outputs": [
        {
          "output_type": "stream",
          "name": "stdout",
          "text": [
            "[[0, 0, 0], [0, 0, 0], [0, 0, 0]]\n"
          ]
        }
      ],
      "source": [
        "def getNewBoard():\n",
        "    return [[0 for i in range(boardSize)] for i in range(boardSize)]\n",
        "\n",
        "print(getNewBoard())"
      ]
    },
    {
      "cell_type": "markdown",
      "metadata": {
        "id": "Io9bhJw32rTz"
      },
      "source": [
        "Also let us create a function to get **valid** moves:"
      ]
    },
    {
      "cell_type": "code",
      "execution_count": null,
      "metadata": {
        "id": "muAa3nw92rTz"
      },
      "outputs": [],
      "source": [
        "def getValidMoves(board):\n",
        "    moves = []\n",
        "    for i in range(boardSize):\n",
        "        for j in range(boardSize):\n",
        "            if board[i][j] == 0:\n",
        "                moves.append((i, j))\n",
        "    return moves"
      ]
    },
    {
      "cell_type": "markdown",
      "metadata": {
        "id": "PXVLjY512rTz"
      },
      "source": [
        "It's time to add function to check whether some player has won:"
      ]
    },
    {
      "cell_type": "code",
      "execution_count": null,
      "metadata": {
        "id": "-2b26C-j2rTz"
      },
      "outputs": [],
      "source": [
        "# returns 1 or 2 if player 1 or 2 wins\n",
        "# returns 0 if that is a draw\n",
        "# returns -1 if game should continue\n",
        "def getWinner(board):\n",
        "    winner = 0\n",
        "\n",
        "    # check rows\n",
        "    for i in range(boardSize):\n",
        "        player = board[i][0]\n",
        "        win = True\n",
        "        if player == 0:\n",
        "            continue\n",
        "        for j in range(boardSize):\n",
        "            if board[i][j] != player:\n",
        "                win = False\n",
        "                break\n",
        "        if win:\n",
        "            return player\n",
        "\n",
        "    # check columns\n",
        "    for i in range(boardSize):\n",
        "        player = board[0][i]\n",
        "        win = True\n",
        "        if player == 0:\n",
        "            continue\n",
        "        for j in range(boardSize):\n",
        "            if board[j][i] != player:\n",
        "                win = False\n",
        "                break\n",
        "        if win:\n",
        "            return player\n",
        "\n",
        "    # check diagonal (\\)\n",
        "    player = board[0][0]\n",
        "    if player != 0:\n",
        "        win = True\n",
        "        for i in range(boardSize):\n",
        "            if board[i][i] != player:\n",
        "                win = False\n",
        "                break\n",
        "        if win:\n",
        "            return player\n",
        "\n",
        "    # check diagonal (/)\n",
        "    player = board[boardSize - 1][0]\n",
        "    if player != 0:\n",
        "        win = True\n",
        "        for i in range(boardSize):\n",
        "            if board[boardSize - i - 1][i] != player:\n",
        "                win = False\n",
        "                break\n",
        "        if win:\n",
        "            return player\n",
        "\n",
        "    # check if game is other\n",
        "    if (len(getValidMoves(board)) == 0):\n",
        "        # that is draw\n",
        "        return 0\n",
        "    else:\n",
        "        # there are moves to play\n",
        "        return -1"
      ]
    },
    {
      "cell_type": "markdown",
      "metadata": {
        "id": "wg_09FFl2rT0"
      },
      "source": [
        "Finally, we need a function for a nice looking visualization of our game:"
      ]
    },
    {
      "cell_type": "code",
      "execution_count": null,
      "metadata": {
        "id": "QpqncuIG2rT0"
      },
      "outputs": [],
      "source": [
        "def visualize(board):\n",
        "    print('/-----\\\\')\n",
        "    for i in range(boardSize):\n",
        "        for j in range(boardSize):\n",
        "            print('|', end = '')\n",
        "            print('X' if board[i][j] == 1 else 'O' if board[i][j] == 2 else ' ', end = '')\n",
        "        print('|')\n",
        "        if i != boardSize - 1:\n",
        "            print('-------')\n",
        "    print('\\\\-----/')"
      ]
    },
    {
      "cell_type": "markdown",
      "metadata": {
        "id": "MsUiZANx2rT1"
      },
      "source": [
        "# The game simulator"
      ]
    },
    {
      "cell_type": "markdown",
      "source": [
        "Now that we’ve created our tic-tac-toe environment, we need a way to simulate actual games. While there are several ways we can do this, we’re going to use a random simulator. There a couple reasons why this is a good idea."
      ],
      "metadata": {
        "id": "C6IfRyh6FWJ5"
      }
    },
    {
      "cell_type": "markdown",
      "source": [
        "First, a random simulator will create the broadest possible collection of training data. It means when a human plays against our AI-trained model, the AI won’t be easily flummoxed by unintuitive moves that it wasn’t trained on. In a more complicated game, we might need some sort of heuristics to narrow the search space and point the training simulations in the general right direction, but in tic-tac-toe the search space is small so this isn’t a problem.\n"
      ],
      "metadata": {
        "id": "knRJlpkDFZ08"
      }
    },
    {
      "cell_type": "markdown",
      "source": [
        "Second, a random simulator will give us a good baseline for measuring the performance of our model against. In tic-tac-toe, ‘X’ has an inherent edge because it goes first, but we don’t know just how much of an advantage this gives ‘X’ without simulating it."
      ],
      "metadata": {
        "id": "aVCMylQwFdLa"
      }
    },
    {
      "cell_type": "code",
      "source": [
        "import random"
      ],
      "metadata": {
        "id": "UR3lNBgd7znT"
      },
      "execution_count": null,
      "outputs": []
    },
    {
      "cell_type": "code",
      "source": [
        "def getBestMove(board, model, player, rnd=0):\n",
        "    scores = []\n",
        "    moves = getValidMoves(board)\n",
        "    \n",
        "    # make predictions for each possible move\n",
        "    for i in range(len(moves)):\n",
        "        future = np.array(board)\n",
        "        future[moves[i][0]][moves[i][1]] = player\n",
        "        prediction = model.predict(future.reshape((-1, 9)))[0]\n",
        "        if player == 1:\n",
        "            winPrediction = prediction[1]\n",
        "            lossPrediction = prediction[2]\n",
        "        else:\n",
        "            winPrediction = prediction[2]\n",
        "            lossPrediction = prediction[1]\n",
        "        drawPrediction = prediction[0]\n",
        "        if winPrediction - lossPrediction > 0:\n",
        "            scores.append(winPrediction - lossPrediction)\n",
        "        else:\n",
        "            scores.append(drawPrediction - lossPrediction)\n",
        "\n",
        "    # choose the best move with a random factor\n",
        "    bestMoves = np.flip(np.argsort(scores))\n",
        "    for i in range(len(bestMoves)):\n",
        "        if random.random() * rnd < 0.5:\n",
        "            return moves[bestMoves[i]]\n",
        "\n",
        "    # choose a move completely at random\n",
        "    return random.choice(moves)"
      ],
      "metadata": {
        "id": "99qj29TK5DKd"
      },
      "execution_count": null,
      "outputs": []
    },
    {
      "cell_type": "code",
      "source": [
        "def makeMove(board, player, move):\n",
        "    board[move[0]][move[1]] = player\n",
        "    return board"
      ],
      "metadata": {
        "id": "47fYtKBJKL_U"
      },
      "execution_count": null,
      "outputs": []
    },
    {
      "cell_type": "code",
      "execution_count": null,
      "metadata": {
        "id": "noBIrI3D2rT1"
      },
      "outputs": [],
      "source": [
        "def simulateGame(p1=None, p2=None, rnd=0):\n",
        "    history = []\n",
        "    board = getNewBoard()\n",
        "    playerToMove = 1\n",
        "    \n",
        "    while getWinner(board) == -1:\n",
        "        # chose a move (random or use a player model if provided)\n",
        "        move = None\n",
        "        if playerToMove == 1 and p1 != None:\n",
        "            move = getBestMove(board, p1, playerToMove, rnd)\n",
        "        elif playerToMove == 2 and p2 != None:\n",
        "            move = getBestMove(board, p2, playerToMove, rnd)\n",
        "        else:\n",
        "            move = random.choice(getValidMoves(board))\n",
        "        \n",
        "        # make the move\n",
        "        board = makeMove(board, playerToMove, move)\n",
        "        \n",
        "        # add the move to the history\n",
        "        history.append((playerToMove, move))\n",
        "        \n",
        "        # switch the active player\n",
        "        playerToMove = playerToMove % 2 + 1\n",
        "        \n",
        "    return history"
      ]
    },
    {
      "cell_type": "markdown",
      "source": [
        "We see that the “history” of a game consists of an array of tuples.\n",
        "\n",
        "The first element in each of these tuples is the player who moved (1 for ‘X’, 2 for ‘O’), and the second element is the coordinate where that player moved."
      ],
      "metadata": {
        "id": "6kSmZ1qoF3oz"
      }
    },
    {
      "cell_type": "markdown",
      "source": [
        "Any board state from this game can be easily reconstructed from this array. Let’s create a function to do exactly that."
      ],
      "metadata": {
        "id": "CUb1hRvMGApz"
      }
    },
    {
      "cell_type": "code",
      "execution_count": null,
      "metadata": {
        "id": "n8978R4s2rT1"
      },
      "outputs": [],
      "source": [
        "def restoreBoard(moves):\n",
        "    board = getNewBoard()\n",
        "    for move in moves:\n",
        "        board = makeMove(board, move[0], move[1])\n",
        "    return board"
      ]
    },
    {
      "cell_type": "markdown",
      "source": [
        "Now, we need a function to generate statistics from this list of games."
      ],
      "metadata": {
        "id": "Or9BxJU2GU8s"
      }
    },
    {
      "cell_type": "code",
      "execution_count": null,
      "metadata": {
        "id": "7ekqzxaw2rT2"
      },
      "outputs": [],
      "source": [
        "def gameSeriesInfo(games, player=1):\n",
        "    win = 0\n",
        "    loss = 0\n",
        "    draw = 0\n",
        "    for game in games:\n",
        "        result = getWinner(restoreBoard(game))\n",
        "        if result == -1:\n",
        "            continue\n",
        "        elif result == player:\n",
        "            win += 1\n",
        "        elif result == 0:\n",
        "            draw += 1\n",
        "        else:\n",
        "            loss += 1\n",
        "    \n",
        "    winPct = win / len(games) * 100\n",
        "    lossPct = loss / len(games) * 100\n",
        "    drawPct = draw / len(games) * 100\n",
        "\n",
        "    print(\"Results for player %d:\" % (player))\n",
        "    print(\"Wins: %d (%.1f%%)\" % (win, winPct))\n",
        "    print(\"Loss: %d (%.1f%%)\" % (loss, lossPct))\n",
        "    print(\"Draw: %d (%.1f%%)\" % (draw, drawPct))"
      ]
    },
    {
      "cell_type": "markdown",
      "metadata": {
        "id": "O5o1sWUp2rT1"
      },
      "source": [
        "# Simulating random games"
      ]
    },
    {
      "cell_type": "markdown",
      "source": [
        "Now that we’re at a point where we can simulate random games, let’s generate some aggregate statistics for 10,000 games at once. We can do this in a single line."
      ],
      "metadata": {
        "id": "R174PW239zv0"
      }
    },
    {
      "cell_type": "code",
      "execution_count": null,
      "metadata": {
        "id": "2yzfyhe02rT1"
      },
      "outputs": [],
      "source": [
        "games = [simulateGame() for _ in range(10000)]"
      ]
    },
    {
      "cell_type": "markdown",
      "source": [
        "So, how did they go?"
      ],
      "metadata": {
        "id": "tAp_eidw97DO"
      }
    },
    {
      "cell_type": "code",
      "source": [
        "gameSeriesInfo(games)"
      ],
      "metadata": {
        "colab": {
          "base_uri": "https://localhost:8080/"
        },
        "id": "o9i1UnCW9_WZ",
        "outputId": "eb5c8ef0-4e51-4683-cc82-73dbca173831"
      },
      "execution_count": null,
      "outputs": [
        {
          "output_type": "stream",
          "name": "stdout",
          "text": [
            "Results for player 1:\n",
            "Wins: 5874 (58.7%)\n",
            "Loss: 2873 (28.7%)\n",
            "Draw: 1253 (12.5%)\n"
          ]
        }
      ]
    },
    {
      "cell_type": "markdown",
      "source": [
        "Not very impressing, huh?\n",
        "\n",
        "By the way, we see that player 1 (‘X’) wins about half of the time, while player 2 (‘O’) only wins about a quarter of the time. The players also draw about a quarter of the time. This is the baseline to beat for our model."
      ],
      "metadata": {
        "id": "5cjxC6v9EKv6"
      }
    },
    {
      "cell_type": "markdown",
      "metadata": {
        "id": "boqeIwY12rT2"
      },
      "source": [
        "# The DNN Model"
      ]
    },
    {
      "cell_type": "markdown",
      "source": [
        "It’s now time to build a deep neural network! Remember that our **input** data is individual board states and our **output** data used for classification is the resulting outcome for each game associated with that board state.\n",
        "\n",
        "\n",
        "The **input** data is thus a nine-element array, if we flatten the board state. The **output** data is a three-element array, if we one-hot encode the possible outcomes of a game (‘X’ wins, ‘O’ wins, draw)."
      ],
      "metadata": {
        "id": "IpGEpWFeGo1K"
      }
    },
    {
      "cell_type": "code",
      "execution_count": null,
      "metadata": {
        "id": "Oc5NrQGQ2rT2"
      },
      "outputs": [],
      "source": [
        "import keras\n",
        "from keras.models import Sequential\n",
        "from keras.layers import Dense\n",
        "from keras.layers import Dropout\n",
        "from keras.backend import reshape\n",
        "from keras.utils.np_utils import to_categorical\n",
        "\n",
        "def getModel():\n",
        "    numCells = 9\n",
        "    outcomes = 3\n",
        "    model = Sequential()\n",
        "    model.add(Dense(200, activation='relu', input_shape=(9, )))\n",
        "    model.add(Dropout(0.2))\n",
        "    model.add(Dense(125, activation='relu'))\n",
        "    model.add(Dense(75, activation='relu'))\n",
        "    model.add(Dropout(0.1))\n",
        "    model.add(Dense(25, activation='relu'))\n",
        "    model.add(Dense(outcomes, activation='softmax'))\n",
        "    model.compile(loss='categorical_crossentropy', optimizer='rmsprop', metrics=['acc'])\n",
        "    return model"
      ]
    },
    {
      "cell_type": "markdown",
      "source": [
        "Note how the loss function is categorical crossentropy.\n",
        "This is how we tell the model that we want it to output an array of probabilities.\n",
        "\n",
        "These probabilities project the model’s confidence in each of the three game outcomes for a given board.\n",
        "Remember the random games we simulated? These are our training data. But we need to format the data in such a way that our model can consume it.\n",
        "\n",
        "This means doing the following:\n",
        "- Splitting each game into separate board states, labelling each board with the eventual outcome of its associated game\n",
        "- Flattening each board into a 1D array"
      ],
      "metadata": {
        "id": "vTEDaGgOG7v6"
      }
    },
    {
      "cell_type": "markdown",
      "source": [
        "We also want to reserve a test dataset for validation purposes. Here’s the function we use to do all of the above."
      ],
      "metadata": {
        "id": "_nYAdlsqHi6W"
      }
    },
    {
      "cell_type": "code",
      "execution_count": null,
      "metadata": {
        "id": "9UEdklGO2rT3"
      },
      "outputs": [],
      "source": [
        "import numpy as np\n",
        "\n",
        "def gamesToWinLossData(games):\n",
        "    X = []\n",
        "    y = []\n",
        "    for game in games:\n",
        "        winner = getWinner(restoreBoard(game))\n",
        "        for move in range(len(game)):\n",
        "            X.append(restoreBoard(game[:(move + 1)]))\n",
        "            y.append(winner)\n",
        "\n",
        "    X = np.array(X).reshape((-1, 9))\n",
        "    y = to_categorical(y)\n",
        "    \n",
        "    # return an appropriate train/test split\n",
        "    trainNum = int(len(X) * 0.8)\n",
        "    return (X[:trainNum], X[trainNum:], y[:trainNum], y[trainNum:])"
      ]
    },
    {
      "cell_type": "markdown",
      "source": [
        "Now, we can instantiate our model, reshape our data, and train the model."
      ],
      "metadata": {
        "id": "Wmyd4DOlHsJ7"
      }
    },
    {
      "cell_type": "markdown",
      "source": [
        "It will take a while..."
      ],
      "metadata": {
        "id": "pecZIDJZHwrz"
      }
    },
    {
      "cell_type": "code",
      "execution_count": null,
      "metadata": {
        "colab": {
          "base_uri": "https://localhost:8080/"
        },
        "id": "uv3kxiHY2rT3",
        "outputId": "5878eab6-f008-4fea-ba59-00eaffac9128"
      },
      "outputs": [
        {
          "output_type": "stream",
          "name": "stdout",
          "text": [
            "Epoch 1/100\n",
            "611/611 [==============================] - 3s 4ms/step - loss: 0.9341 - acc: 0.5768 - val_loss: 0.8917 - val_acc: 0.5973\n",
            "Epoch 2/100\n",
            "611/611 [==============================] - 2s 3ms/step - loss: 0.8802 - acc: 0.6004 - val_loss: 0.8392 - val_acc: 0.6218\n",
            "Epoch 3/100\n",
            "611/611 [==============================] - 2s 3ms/step - loss: 0.8423 - acc: 0.6132 - val_loss: 0.8053 - val_acc: 0.6286\n",
            "Epoch 4/100\n",
            "611/611 [==============================] - 2s 3ms/step - loss: 0.8152 - acc: 0.6248 - val_loss: 0.7862 - val_acc: 0.6364\n",
            "Epoch 5/100\n",
            "611/611 [==============================] - 2s 3ms/step - loss: 0.7965 - acc: 0.6342 - val_loss: 0.7720 - val_acc: 0.6418\n",
            "Epoch 6/100\n",
            "611/611 [==============================] - 2s 3ms/step - loss: 0.7841 - acc: 0.6389 - val_loss: 0.7609 - val_acc: 0.6493\n",
            "Epoch 7/100\n",
            "611/611 [==============================] - 2s 3ms/step - loss: 0.7727 - acc: 0.6468 - val_loss: 0.7524 - val_acc: 0.6544\n",
            "Epoch 8/100\n",
            "611/611 [==============================] - 2s 3ms/step - loss: 0.7644 - acc: 0.6499 - val_loss: 0.7516 - val_acc: 0.6540\n",
            "Epoch 9/100\n",
            "611/611 [==============================] - 2s 4ms/step - loss: 0.7556 - acc: 0.6536 - val_loss: 0.7439 - val_acc: 0.6536\n",
            "Epoch 10/100\n",
            "611/611 [==============================] - 2s 4ms/step - loss: 0.7500 - acc: 0.6552 - val_loss: 0.7364 - val_acc: 0.6584\n",
            "Epoch 11/100\n",
            "611/611 [==============================] - 2s 3ms/step - loss: 0.7460 - acc: 0.6572 - val_loss: 0.7336 - val_acc: 0.6627\n",
            "Epoch 12/100\n",
            "611/611 [==============================] - 2s 3ms/step - loss: 0.7407 - acc: 0.6595 - val_loss: 0.7227 - val_acc: 0.6642\n",
            "Epoch 13/100\n",
            "611/611 [==============================] - 2s 3ms/step - loss: 0.7384 - acc: 0.6610 - val_loss: 0.7260 - val_acc: 0.6620\n",
            "Epoch 14/100\n",
            "611/611 [==============================] - 2s 3ms/step - loss: 0.7326 - acc: 0.6643 - val_loss: 0.7270 - val_acc: 0.6619\n",
            "Epoch 15/100\n",
            "611/611 [==============================] - 2s 3ms/step - loss: 0.7313 - acc: 0.6635 - val_loss: 0.7212 - val_acc: 0.6644\n",
            "Epoch 16/100\n",
            "611/611 [==============================] - 2s 3ms/step - loss: 0.7287 - acc: 0.6651 - val_loss: 0.7176 - val_acc: 0.6654\n",
            "Epoch 17/100\n",
            "611/611 [==============================] - 2s 3ms/step - loss: 0.7254 - acc: 0.6668 - val_loss: 0.7200 - val_acc: 0.6653\n",
            "Epoch 18/100\n",
            "611/611 [==============================] - 2s 3ms/step - loss: 0.7232 - acc: 0.6686 - val_loss: 0.7197 - val_acc: 0.6614\n",
            "Epoch 19/100\n",
            "611/611 [==============================] - 2s 3ms/step - loss: 0.7220 - acc: 0.6697 - val_loss: 0.7137 - val_acc: 0.6658\n",
            "Epoch 20/100\n",
            "611/611 [==============================] - 2s 3ms/step - loss: 0.7214 - acc: 0.6696 - val_loss: 0.7173 - val_acc: 0.6646\n",
            "Epoch 21/100\n",
            "611/611 [==============================] - 2s 4ms/step - loss: 0.7191 - acc: 0.6694 - val_loss: 0.7126 - val_acc: 0.6673\n",
            "Epoch 22/100\n",
            "611/611 [==============================] - 2s 3ms/step - loss: 0.7177 - acc: 0.6687 - val_loss: 0.7130 - val_acc: 0.6667\n",
            "Epoch 23/100\n",
            "611/611 [==============================] - 2s 4ms/step - loss: 0.7169 - acc: 0.6709 - val_loss: 0.7130 - val_acc: 0.6656\n",
            "Epoch 24/100\n",
            "611/611 [==============================] - 4s 6ms/step - loss: 0.7150 - acc: 0.6714 - val_loss: 0.7092 - val_acc: 0.6641\n",
            "Epoch 25/100\n",
            "611/611 [==============================] - 2s 4ms/step - loss: 0.7126 - acc: 0.6715 - val_loss: 0.7101 - val_acc: 0.6660\n",
            "Epoch 26/100\n",
            "611/611 [==============================] - 2s 4ms/step - loss: 0.7112 - acc: 0.6728 - val_loss: 0.7080 - val_acc: 0.6686\n",
            "Epoch 27/100\n",
            "611/611 [==============================] - 2s 4ms/step - loss: 0.7110 - acc: 0.6712 - val_loss: 0.7050 - val_acc: 0.6690\n",
            "Epoch 28/100\n",
            "611/611 [==============================] - 3s 4ms/step - loss: 0.7098 - acc: 0.6731 - val_loss: 0.7038 - val_acc: 0.6662\n",
            "Epoch 29/100\n",
            "611/611 [==============================] - 3s 5ms/step - loss: 0.7100 - acc: 0.6717 - val_loss: 0.7071 - val_acc: 0.6692\n",
            "Epoch 30/100\n",
            "611/611 [==============================] - 3s 5ms/step - loss: 0.7077 - acc: 0.6737 - val_loss: 0.7069 - val_acc: 0.6700\n",
            "Epoch 31/100\n",
            "611/611 [==============================] - 2s 4ms/step - loss: 0.7082 - acc: 0.6742 - val_loss: 0.7050 - val_acc: 0.6696\n",
            "Epoch 32/100\n",
            "611/611 [==============================] - 2s 3ms/step - loss: 0.7080 - acc: 0.6740 - val_loss: 0.7052 - val_acc: 0.6676\n",
            "Epoch 33/100\n",
            "611/611 [==============================] - 2s 3ms/step - loss: 0.7079 - acc: 0.6740 - val_loss: 0.7054 - val_acc: 0.6699\n",
            "Epoch 34/100\n",
            "611/611 [==============================] - 2s 4ms/step - loss: 0.7061 - acc: 0.6741 - val_loss: 0.7063 - val_acc: 0.6692\n",
            "Epoch 35/100\n",
            "611/611 [==============================] - 3s 4ms/step - loss: 0.7057 - acc: 0.6747 - val_loss: 0.7042 - val_acc: 0.6654\n",
            "Epoch 36/100\n",
            "611/611 [==============================] - 3s 4ms/step - loss: 0.7056 - acc: 0.6755 - val_loss: 0.7045 - val_acc: 0.6675\n",
            "Epoch 37/100\n",
            "611/611 [==============================] - 2s 3ms/step - loss: 0.7052 - acc: 0.6757 - val_loss: 0.7060 - val_acc: 0.6698\n",
            "Epoch 38/100\n",
            "611/611 [==============================] - 2s 3ms/step - loss: 0.7044 - acc: 0.6755 - val_loss: 0.7063 - val_acc: 0.6711\n",
            "Epoch 39/100\n",
            "611/611 [==============================] - 2s 3ms/step - loss: 0.7039 - acc: 0.6749 - val_loss: 0.7083 - val_acc: 0.6635\n",
            "Epoch 40/100\n",
            "611/611 [==============================] - 2s 3ms/step - loss: 0.7032 - acc: 0.6757 - val_loss: 0.7063 - val_acc: 0.6690\n",
            "Epoch 41/100\n",
            "611/611 [==============================] - 2s 3ms/step - loss: 0.7036 - acc: 0.6757 - val_loss: 0.7005 - val_acc: 0.6694\n",
            "Epoch 42/100\n",
            "611/611 [==============================] - 2s 3ms/step - loss: 0.7029 - acc: 0.6778 - val_loss: 0.7008 - val_acc: 0.6676\n",
            "Epoch 43/100\n",
            "611/611 [==============================] - 2s 3ms/step - loss: 0.7018 - acc: 0.6758 - val_loss: 0.6972 - val_acc: 0.6731\n",
            "Epoch 44/100\n",
            "611/611 [==============================] - 2s 3ms/step - loss: 0.7017 - acc: 0.6763 - val_loss: 0.7010 - val_acc: 0.6681\n",
            "Epoch 45/100\n",
            "611/611 [==============================] - 2s 3ms/step - loss: 0.7011 - acc: 0.6771 - val_loss: 0.7012 - val_acc: 0.6699\n",
            "Epoch 46/100\n",
            "611/611 [==============================] - 2s 3ms/step - loss: 0.7005 - acc: 0.6758 - val_loss: 0.6987 - val_acc: 0.6701\n",
            "Epoch 47/100\n",
            "611/611 [==============================] - 2s 3ms/step - loss: 0.7004 - acc: 0.6761 - val_loss: 0.7012 - val_acc: 0.6701\n",
            "Epoch 48/100\n",
            "611/611 [==============================] - 2s 3ms/step - loss: 0.6994 - acc: 0.6786 - val_loss: 0.6978 - val_acc: 0.6703\n",
            "Epoch 49/100\n",
            "611/611 [==============================] - 2s 4ms/step - loss: 0.7010 - acc: 0.6760 - val_loss: 0.7019 - val_acc: 0.6688\n",
            "Epoch 50/100\n",
            "611/611 [==============================] - 2s 3ms/step - loss: 0.6987 - acc: 0.6789 - val_loss: 0.6981 - val_acc: 0.6687\n",
            "Epoch 51/100\n",
            "611/611 [==============================] - 2s 3ms/step - loss: 0.7007 - acc: 0.6771 - val_loss: 0.7008 - val_acc: 0.6703\n",
            "Epoch 52/100\n",
            "611/611 [==============================] - 2s 3ms/step - loss: 0.6995 - acc: 0.6769 - val_loss: 0.7015 - val_acc: 0.6720\n",
            "Epoch 53/100\n",
            "611/611 [==============================] - 2s 3ms/step - loss: 0.7012 - acc: 0.6762 - val_loss: 0.6983 - val_acc: 0.6690\n",
            "Epoch 54/100\n",
            "611/611 [==============================] - 2s 3ms/step - loss: 0.6995 - acc: 0.6777 - val_loss: 0.6982 - val_acc: 0.6690\n",
            "Epoch 55/100\n",
            "611/611 [==============================] - 2s 3ms/step - loss: 0.6968 - acc: 0.6790 - val_loss: 0.6993 - val_acc: 0.6695\n",
            "Epoch 56/100\n",
            "611/611 [==============================] - 2s 3ms/step - loss: 0.6974 - acc: 0.6774 - val_loss: 0.7006 - val_acc: 0.6698\n",
            "Epoch 57/100\n",
            "611/611 [==============================] - 2s 3ms/step - loss: 0.6987 - acc: 0.6753 - val_loss: 0.7014 - val_acc: 0.6688\n",
            "Epoch 58/100\n",
            "611/611 [==============================] - 2s 3ms/step - loss: 0.6980 - acc: 0.6784 - val_loss: 0.6995 - val_acc: 0.6686\n",
            "Epoch 59/100\n",
            "611/611 [==============================] - 2s 3ms/step - loss: 0.6969 - acc: 0.6784 - val_loss: 0.6998 - val_acc: 0.6678\n",
            "Epoch 60/100\n",
            "611/611 [==============================] - 2s 3ms/step - loss: 0.6983 - acc: 0.6766 - val_loss: 0.6987 - val_acc: 0.6705\n",
            "Epoch 61/100\n",
            "611/611 [==============================] - 2s 3ms/step - loss: 0.6957 - acc: 0.6798 - val_loss: 0.6993 - val_acc: 0.6675\n",
            "Epoch 62/100\n",
            "611/611 [==============================] - 2s 3ms/step - loss: 0.6968 - acc: 0.6782 - val_loss: 0.7024 - val_acc: 0.6701\n",
            "Epoch 63/100\n",
            "611/611 [==============================] - 2s 3ms/step - loss: 0.6978 - acc: 0.6786 - val_loss: 0.6992 - val_acc: 0.6695\n",
            "Epoch 64/100\n",
            "611/611 [==============================] - 2s 3ms/step - loss: 0.6960 - acc: 0.6795 - val_loss: 0.6939 - val_acc: 0.6730\n",
            "Epoch 65/100\n",
            "611/611 [==============================] - 2s 4ms/step - loss: 0.6943 - acc: 0.6790 - val_loss: 0.6983 - val_acc: 0.6717\n",
            "Epoch 66/100\n",
            "611/611 [==============================] - 2s 3ms/step - loss: 0.6978 - acc: 0.6784 - val_loss: 0.6975 - val_acc: 0.6688\n",
            "Epoch 67/100\n",
            "611/611 [==============================] - 2s 3ms/step - loss: 0.6976 - acc: 0.6769 - val_loss: 0.6971 - val_acc: 0.6699\n",
            "Epoch 68/100\n",
            "611/611 [==============================] - 2s 3ms/step - loss: 0.6964 - acc: 0.6790 - val_loss: 0.7011 - val_acc: 0.6695\n",
            "Epoch 69/100\n",
            "611/611 [==============================] - 2s 4ms/step - loss: 0.6960 - acc: 0.6794 - val_loss: 0.6965 - val_acc: 0.6722\n",
            "Epoch 70/100\n",
            "611/611 [==============================] - 2s 3ms/step - loss: 0.6953 - acc: 0.6789 - val_loss: 0.6989 - val_acc: 0.6688\n",
            "Epoch 71/100\n",
            "611/611 [==============================] - 2s 3ms/step - loss: 0.6967 - acc: 0.6801 - val_loss: 0.6986 - val_acc: 0.6667\n",
            "Epoch 72/100\n",
            "611/611 [==============================] - 2s 3ms/step - loss: 0.6945 - acc: 0.6789 - val_loss: 0.6974 - val_acc: 0.6720\n",
            "Epoch 73/100\n",
            "611/611 [==============================] - 2s 3ms/step - loss: 0.6972 - acc: 0.6781 - val_loss: 0.6958 - val_acc: 0.6676\n",
            "Epoch 74/100\n",
            "611/611 [==============================] - 2s 3ms/step - loss: 0.6952 - acc: 0.6779 - val_loss: 0.6945 - val_acc: 0.6760\n",
            "Epoch 75/100\n",
            "611/611 [==============================] - 2s 3ms/step - loss: 0.6941 - acc: 0.6792 - val_loss: 0.6975 - val_acc: 0.6701\n",
            "Epoch 76/100\n",
            "611/611 [==============================] - 2s 3ms/step - loss: 0.6948 - acc: 0.6792 - val_loss: 0.6951 - val_acc: 0.6732\n",
            "Epoch 77/100\n",
            "611/611 [==============================] - 2s 3ms/step - loss: 0.6956 - acc: 0.6776 - val_loss: 0.6974 - val_acc: 0.6738\n",
            "Epoch 78/100\n",
            "611/611 [==============================] - 2s 4ms/step - loss: 0.6971 - acc: 0.6788 - val_loss: 0.6987 - val_acc: 0.6696\n",
            "Epoch 79/100\n",
            "611/611 [==============================] - 2s 3ms/step - loss: 0.6960 - acc: 0.6792 - val_loss: 0.7008 - val_acc: 0.6701\n",
            "Epoch 80/100\n",
            "611/611 [==============================] - 2s 3ms/step - loss: 0.6951 - acc: 0.6787 - val_loss: 0.6931 - val_acc: 0.6714\n",
            "Epoch 81/100\n",
            "611/611 [==============================] - 2s 3ms/step - loss: 0.6955 - acc: 0.6792 - val_loss: 0.6993 - val_acc: 0.6682\n",
            "Epoch 82/100\n",
            "611/611 [==============================] - 2s 3ms/step - loss: 0.6947 - acc: 0.6785 - val_loss: 0.6982 - val_acc: 0.6708\n",
            "Epoch 83/100\n",
            "611/611 [==============================] - 2s 3ms/step - loss: 0.6957 - acc: 0.6791 - val_loss: 0.7027 - val_acc: 0.6708\n",
            "Epoch 84/100\n",
            "611/611 [==============================] - 2s 3ms/step - loss: 0.6961 - acc: 0.6784 - val_loss: 0.6954 - val_acc: 0.6735\n",
            "Epoch 85/100\n",
            "611/611 [==============================] - 2s 3ms/step - loss: 0.6946 - acc: 0.6803 - val_loss: 0.6999 - val_acc: 0.6710\n",
            "Epoch 86/100\n",
            "611/611 [==============================] - 3s 6ms/step - loss: 0.6957 - acc: 0.6786 - val_loss: 0.6926 - val_acc: 0.6717\n",
            "Epoch 87/100\n",
            "611/611 [==============================] - 3s 6ms/step - loss: 0.6940 - acc: 0.6792 - val_loss: 0.6972 - val_acc: 0.6711\n",
            "Epoch 88/100\n",
            "611/611 [==============================] - 2s 3ms/step - loss: 0.6956 - acc: 0.6793 - val_loss: 0.6952 - val_acc: 0.6701\n",
            "Epoch 89/100\n",
            "611/611 [==============================] - 2s 3ms/step - loss: 0.6968 - acc: 0.6782 - val_loss: 0.6918 - val_acc: 0.6735\n",
            "Epoch 90/100\n",
            "611/611 [==============================] - 2s 3ms/step - loss: 0.6966 - acc: 0.6778 - val_loss: 0.6974 - val_acc: 0.6703\n",
            "Epoch 91/100\n",
            "611/611 [==============================] - 2s 3ms/step - loss: 0.6959 - acc: 0.6792 - val_loss: 0.6926 - val_acc: 0.6764\n",
            "Epoch 92/100\n",
            "611/611 [==============================] - 2s 3ms/step - loss: 0.6962 - acc: 0.6799 - val_loss: 0.6938 - val_acc: 0.6703\n",
            "Epoch 93/100\n",
            "611/611 [==============================] - 2s 3ms/step - loss: 0.6949 - acc: 0.6788 - val_loss: 0.6954 - val_acc: 0.6724\n",
            "Epoch 94/100\n",
            "611/611 [==============================] - 2s 3ms/step - loss: 0.6948 - acc: 0.6788 - val_loss: 0.6952 - val_acc: 0.6714\n",
            "Epoch 95/100\n",
            "611/611 [==============================] - 2s 3ms/step - loss: 0.6948 - acc: 0.6795 - val_loss: 0.6937 - val_acc: 0.6724\n",
            "Epoch 96/100\n",
            "611/611 [==============================] - 2s 3ms/step - loss: 0.6936 - acc: 0.6794 - val_loss: 0.6920 - val_acc: 0.6720\n",
            "Epoch 97/100\n",
            "611/611 [==============================] - 2s 3ms/step - loss: 0.6982 - acc: 0.6809 - val_loss: 0.6939 - val_acc: 0.6732\n",
            "Epoch 98/100\n",
            "611/611 [==============================] - 3s 5ms/step - loss: 0.6928 - acc: 0.6796 - val_loss: 0.6995 - val_acc: 0.6703\n",
            "Epoch 99/100\n",
            "611/611 [==============================] - 4s 6ms/step - loss: 0.6940 - acc: 0.6804 - val_loss: 0.6946 - val_acc: 0.6725\n",
            "Epoch 100/100\n",
            "611/611 [==============================] - 3s 4ms/step - loss: 0.6950 - acc: 0.6814 - val_loss: 0.6923 - val_acc: 0.6732\n"
          ]
        }
      ],
      "source": [
        "model = getModel()\n",
        "X_train, X_test, y_train, y_test = gamesToWinLossData(games)\n",
        "history = model.fit(X_train, y_train, validation_data=(X_test, y_test), epochs=100, batch_size=100)"
      ]
    },
    {
      "cell_type": "markdown",
      "metadata": {
        "id": "8CC5iZsp2rT3"
      },
      "source": [
        "# Model perfomance"
      ]
    },
    {
      "cell_type": "markdown",
      "source": [
        "Once the training is done, we can see how well our model performs!\n",
        "\n",
        "Let’s pass our newly trained model to the simulator as ‘X’ and have it play against a random ‘O’ for 1,000 games."
      ],
      "metadata": {
        "id": "2Ixk2uTgH3sD"
      }
    },
    {
      "cell_type": "markdown",
      "source": [
        "This takes a few seconds, but when it’s done, we can use the same statistics function as before to see what the outcome was."
      ],
      "metadata": {
        "id": "uKTixrtGINOt"
      }
    },
    {
      "cell_type": "code",
      "execution_count": null,
      "metadata": {
        "colab": {
          "base_uri": "https://localhost:8080/"
        },
        "id": "D2gr0B0C2rT3",
        "outputId": "12c39cb7-c95c-4433-8626-7349056920f2"
      },
      "outputs": [
        {
          "output_type": "stream",
          "name": "stdout",
          "text": [
            "Results for player 1:\n",
            "Wins: 977 (97.7%)\n",
            "Loss: 6 (0.6%)\n",
            "Draw: 17 (1.7%)\n"
          ]
        }
      ],
      "source": [
        "gamesModelRandom = [simulateGame(p1=model) for _ in range(1000)]\n",
        "gameSeriesInfo(gamesModelRandom)"
      ]
    },
    {
      "cell_type": "markdown",
      "source": [
        "Wow! We’ve gone from losing 24.2% of games to only losing 1.6% of the time!"
      ],
      "metadata": {
        "id": "n_Jboot5IVH4"
      }
    },
    {
      "cell_type": "markdown",
      "source": [
        "Let’s see how our model fares as ‘O’, playing against a random ‘X’."
      ],
      "metadata": {
        "id": "cRfK3wwcIXUU"
      }
    },
    {
      "cell_type": "code",
      "execution_count": null,
      "metadata": {
        "colab": {
          "base_uri": "https://localhost:8080/"
        },
        "id": "BmLdf4xh2rT3",
        "outputId": "79d3a57e-993c-443c-864d-1d0a866ab726"
      },
      "outputs": [
        {
          "output_type": "stream",
          "name": "stdout",
          "text": [
            "Results for player 2:\n",
            "Wins: 315 (31.5%)\n",
            "Loss: 50 (5.0%)\n",
            "Draw: 635 (63.5%)\n"
          ]
        }
      ],
      "source": [
        "gamesRandomModel = [simulateGame(p2=model) for _ in range(1000)]\n",
        "gameSeriesInfo(gamesRandomModel, player=2)"
      ]
    },
    {
      "cell_type": "markdown",
      "source": [
        "This is equally impressive! ‘O’ has gone from losing 51.9% of games to only losing 4.3% of the time."
      ],
      "metadata": {
        "id": "_jR4SPiNI9Ou"
      }
    },
    {
      "cell_type": "markdown",
      "source": [
        "What happens when the model is used to play both sides? To avoid complete determinism, we apply a random factor to force the model to choose different moves each game."
      ],
      "metadata": {
        "id": "5kDrqos8JAtD"
      }
    },
    {
      "cell_type": "code",
      "execution_count": null,
      "metadata": {
        "colab": {
          "base_uri": "https://localhost:8080/"
        },
        "id": "uQPhBae12rT4",
        "outputId": "4698f293-a499-4305-caac-85117ecdde11"
      },
      "outputs": [
        {
          "output_type": "stream",
          "name": "stdout",
          "text": [
            "Results for player 1:\n",
            "Wins: 562 (56.2%)\n",
            "Loss: 59 (5.9%)\n",
            "Draw: 379 (37.9%)\n",
            "\n",
            "Results for player 2:\n",
            "Wins: 59 (5.9%)\n",
            "Loss: 562 (56.2%)\n",
            "Draw: 379 (37.9%)\n"
          ]
        }
      ],
      "source": [
        "gamesModelModel = [simulateGame(p1=model, p2=model, rnd=0.6) for _ in range(1000)]\n",
        "gameSeriesInfo(gamesModelModel, player=1)\n",
        "print()\n",
        "gameSeriesInfo(gamesModelModel, player=2)"
      ]
    },
    {
      "cell_type": "markdown",
      "source": [
        "We see that the game tends toward a draw, which is what we would expect from a couple of human players.\n",
        "\n",
        "Still, neither player is particularly good. Remember that in perfect play, games *always* end in a draw."
      ],
      "metadata": {
        "id": "BUqpRaJhJW_G"
      }
    },
    {
      "cell_type": "markdown",
      "source": [
        "As a final measure of skill, let’s see how the length of the average game has changed.\n",
        "\n",
        "We would expect this to go down with an increased imbalance in skill levels."
      ],
      "metadata": {
        "id": "WwQG1oc-JpWN"
      }
    },
    {
      "cell_type": "code",
      "execution_count": null,
      "metadata": {
        "colab": {
          "base_uri": "https://localhost:8080/"
        },
        "id": "V18TcQCT2rT4",
        "outputId": "42234251-19a7-48c0-8ea7-a2270e260e87"
      },
      "outputs": [
        {
          "output_type": "stream",
          "name": "stdout",
          "text": [
            "Average length of fully random game is 7.826800 moves\n",
            "Average length of game where P1 uses NN is 6.807000 moves\n",
            "Average length of game where P2 uses NN is 8.023000 moves\n",
            "Average length of game where both use NN is 7.777000 moves\n"
          ]
        }
      ],
      "source": [
        "print(\"Average length of fully random game is %f moves\" % (np.mean([float(len(game)) for game in games])))\n",
        "print(\"Average length of game where P1 uses NN is %f moves\" % (np.mean([float(len(game)) for game in gamesModelRandom])))\n",
        "print(\"Average length of game where P2 uses NN is %f moves\" % (np.mean([float(len(game)) for game in gamesRandomModel])))\n",
        "print(\"Average length of game where both use NN is %f moves\" % (np.mean([float(len(game)) for game in gamesModelModel])))"
      ]
    },
    {
      "cell_type": "markdown",
      "source": [
        "As shown above, the games are a move shorter for ‘X’ and about the same for ‘O’.\n",
        "\n",
        "When the model is playing both sides, the games actually tend to be slightly longer than when they’re fully random."
      ],
      "metadata": {
        "id": "9CWiVnyGJw2E"
      }
    },
    {
      "cell_type": "markdown",
      "metadata": {
        "id": "dm4G5Ak92rT4"
      },
      "source": [
        "# ML vs. Me"
      ]
    },
    {
      "cell_type": "markdown",
      "source": [
        "Now, we play a game against our model and see how well it does. We let the model play as ‘X’."
      ],
      "metadata": {
        "id": "FJmbFgrtJ_Be"
      }
    },
    {
      "cell_type": "code",
      "execution_count": null,
      "metadata": {
        "colab": {
          "base_uri": "https://localhost:8080/"
        },
        "id": "F-MkBAAz2rT4",
        "outputId": "39b8d769-cba4-44de-e1dd-5531287428b1"
      },
      "outputs": [
        {
          "output_type": "stream",
          "name": "stdout",
          "text": [
            "/-----\\\n",
            "| | | |\n",
            "-------\n",
            "| |X| |\n",
            "-------\n",
            "| | | |\n",
            "\\-----/\n"
          ]
        }
      ],
      "source": [
        "board = getNewBoard()\n",
        "move = getBestMove(board, model, 1)\n",
        "board = makeMove(board, 1, move)\n",
        "visualize(board)"
      ]
    },
    {
      "cell_type": "code",
      "execution_count": null,
      "metadata": {
        "colab": {
          "base_uri": "https://localhost:8080/"
        },
        "id": "nptSUOJ12rT4",
        "outputId": "7f3e5698-b47e-4a44-86f7-e9cfcdc962d1"
      },
      "outputs": [
        {
          "output_type": "stream",
          "name": "stdout",
          "text": [
            "/-----\\\n",
            "| | | |\n",
            "-------\n",
            "| |X| |\n",
            "-------\n",
            "| | |O|\n",
            "\\-----/\n"
          ]
        }
      ],
      "source": [
        "board = makeMove(board, 2, [2, 2])\n",
        "visualize(board)"
      ]
    },
    {
      "cell_type": "code",
      "execution_count": null,
      "metadata": {
        "colab": {
          "base_uri": "https://localhost:8080/"
        },
        "id": "PzZKqF712rT4",
        "outputId": "8fa589a1-ae92-4455-ca9c-98e7d61b19e3"
      },
      "outputs": [
        {
          "output_type": "stream",
          "name": "stdout",
          "text": [
            "/-----\\\n",
            "| | | |\n",
            "-------\n",
            "| |X| |\n",
            "-------\n",
            "| |X|O|\n",
            "\\-----/\n"
          ]
        }
      ],
      "source": [
        "move = getBestMove(board, model, 1)\n",
        "board = makeMove(board, 1, move)\n",
        "visualize(board)"
      ]
    },
    {
      "cell_type": "code",
      "execution_count": null,
      "metadata": {
        "colab": {
          "base_uri": "https://localhost:8080/"
        },
        "id": "Mzqfi8w42rT4",
        "outputId": "5b1d8171-dd55-4798-a92a-a9530d18faf2"
      },
      "outputs": [
        {
          "output_type": "stream",
          "name": "stdout",
          "text": [
            "/-----\\\n",
            "| | |O|\n",
            "-------\n",
            "| |X| |\n",
            "-------\n",
            "| |X|O|\n",
            "\\-----/\n"
          ]
        }
      ],
      "source": [
        "board = makeMove(board, 2, [0, 2])\n",
        "visualize(board)"
      ]
    },
    {
      "cell_type": "code",
      "execution_count": null,
      "metadata": {
        "colab": {
          "base_uri": "https://localhost:8080/"
        },
        "id": "OYjTmOkR2rT5",
        "outputId": "3620adf2-930f-4372-9c90-69414f7295e0"
      },
      "outputs": [
        {
          "output_type": "stream",
          "name": "stdout",
          "text": [
            "/-----\\\n",
            "| | |O|\n",
            "-------\n",
            "| |X|X|\n",
            "-------\n",
            "| |X|O|\n",
            "\\-----/\n"
          ]
        }
      ],
      "source": [
        "move = getBestMove(board, model, 1)\n",
        "board = makeMove(board, 1, move)\n",
        "visualize(board)"
      ]
    },
    {
      "cell_type": "code",
      "execution_count": null,
      "metadata": {
        "colab": {
          "base_uri": "https://localhost:8080/"
        },
        "id": "4Udh4EAv2rT5",
        "outputId": "c6de1584-8589-4a10-aae2-c2574402dbb8"
      },
      "outputs": [
        {
          "output_type": "stream",
          "name": "stdout",
          "text": [
            "/-----\\\n",
            "| |O|O|\n",
            "-------\n",
            "| |X|X|\n",
            "-------\n",
            "| |X|O|\n",
            "\\-----/\n"
          ]
        }
      ],
      "source": [
        "board = makeMove(board, 2, [0, 1])\n",
        "visualize(board)"
      ]
    },
    {
      "cell_type": "code",
      "execution_count": null,
      "metadata": {
        "colab": {
          "base_uri": "https://localhost:8080/"
        },
        "id": "6Tvsg1eL2rT5",
        "outputId": "7b6ced53-3ada-4d49-9a12-6d3927c87abc"
      },
      "outputs": [
        {
          "output_type": "stream",
          "name": "stdout",
          "text": [
            "/-----\\\n",
            "| |O|O|\n",
            "-------\n",
            "|X|X|X|\n",
            "-------\n",
            "| |X|O|\n",
            "\\-----/\n"
          ]
        }
      ],
      "source": [
        "move = getBestMove(board, model, 1)\n",
        "board = makeMove(board, 1, move)\n",
        "visualize(board)"
      ]
    }
  ],
  "metadata": {
    "interpreter": {
      "hash": "50292dbb1f747f7151d445135d392af3138fb3c65386d17d9510cb605222b10b"
    },
    "kernelspec": {
      "display_name": "Python 3.9.10 64-bit",
      "language": "python",
      "name": "python3"
    },
    "language_info": {
      "codemirror_mode": {
        "name": "ipython",
        "version": 3
      },
      "file_extension": ".py",
      "mimetype": "text/x-python",
      "name": "python",
      "nbconvert_exporter": "python",
      "pygments_lexer": "ipython3",
      "version": "3.9.10"
    },
    "orig_nbformat": 4,
    "colab": {
      "name": "TicTacToeRL.ipynb",
      "provenance": [],
      "collapsed_sections": [
        "zl4rajS4tyTB",
        "ir5yNfRjuVqh",
        "1OvorQYE2rTw",
        "MsUiZANx2rT1",
        "O5o1sWUp2rT1"
      ],
      "toc_visible": true,
      "include_colab_link": true
    }
  },
  "nbformat": 4,
  "nbformat_minor": 0
}